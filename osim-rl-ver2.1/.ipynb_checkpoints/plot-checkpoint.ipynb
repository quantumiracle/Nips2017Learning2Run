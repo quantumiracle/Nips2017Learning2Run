{
 "cells": [
  {
   "cell_type": "markdown",
   "metadata": {},
   "source": [
    "## Display Training Curve"
   ]
  },
  {
   "cell_type": "code",
   "execution_count": 18,
   "metadata": {},
   "outputs": [
    {
     "data": {
      "image/png": "[encoded data removed]",
      "text/plain": [
       "<Figure size 288x216 with 1 Axes>"
      ]
     },
     "metadata": {
      "needs_background": "light"
     },
     "output_type": "display_data"
    }
   ],
   "source": [
    "import numpy as np\n",
    "from matplotlib import pyplot as plt\n",
    "reward = np.load('reward_log.npy')\n",
    "\n",
    "def smooth(y, radius=100, mode='two_sided'):\n",
    "    if len(y) < 2*radius+1:\n",
    "        return np.ones_like(y) * y.mean()\n",
    "    elif mode == 'two_sided':\n",
    "        convkernel = np.ones(2 * radius+1)\n",
    "        return np.convolve(y, convkernel, mode='same') / \\\n",
    "               np.convolve(np.ones_like(y), convkernel, mode='same')\n",
    "    elif mode == 'causal':\n",
    "        convkernel = np.ones(radius)\n",
    "        out = np.convolve(y, convkernel,mode='full') / \\\n",
    "              np.convolve(np.ones_like(y), convkernel, mode='full')\n",
    "        return out[:-radius+1]\n",
    "    \n",
    "# fig.suptitle('Training')\n",
    "# plot smoothed reward curve\n",
    "plt.figure(figsize=(4,3))\n",
    "plt.plot(smooth(reward, radius=1), color='b', alpha=0.3, label='Original')\n",
    "plt.plot(smooth(reward, radius=100), color='b', label='Smoothed')\n",
    "plt.title('Learning Process')\n",
    "plt.xlabel('Episodes')\n",
    "plt.ylabel('Reward')\n",
    "plt.legend()\n",
    "plt.grid()\n",
    "\n",
    "plt.tight_layout()\n",
    "plt.savefig('training.pdf')\n",
    "plt.show()\n"
   ]
  },
  {
   "cell_type": "code",
   "execution_count": 26,
   "metadata": {},
   "outputs": [
    {
     "name": "stdout",
     "output_type": "stream",
     "text": [
      "6\n"
     ]
    },
    {
     "data": {
      "text/plain": [
       "array([-0.12796665, -0.02150392])"
      ]
     },
     "execution_count": 26,
     "metadata": {},
     "output_type": "execute_result"
    }
   ],
   "source": [
    "a=np.array([1,2,3,4,5,6])\n",
    "print(a.shape[0])\n",
    "np.random.normal(0, 0.1,2)"
   ]
  },
  {
   "cell_type": "code",
   "execution_count": null,
   "metadata": {},
   "outputs": [],
   "source": []
  }
 ],
 "metadata": {
  "kernelspec": {
   "display_name": "Python 3",
   "language": "python",
   "name": "python3"
  },
  "language_info": {
   "codemirror_mode": {
    "name": "ipython",
    "version": 2
   },
   "file_extension": ".py",
   "mimetype": "text/x-python",
   "name": "python",
   "nbconvert_exporter": "python",
   "pygments_lexer": "ipython2",
   "version": "2.7.15"
  }
 },
 "nbformat": 4,
 "nbformat_minor": 2
}
